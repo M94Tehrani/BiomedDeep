{
 "cells": [
  {
   "cell_type": "code",
   "execution_count": null,
   "id": "5de104fe",
   "metadata": {},
   "outputs": [],
   "source": [
    "# -*- coding: utf-8 -*-\n",
    "\"\"\"Diabetes Prediction with MLP - Tutorial\"\"\""
   ]
  },
  {
   "cell_type": "code",
   "execution_count": null,
   "id": "e4781bf4",
   "metadata": {},
   "outputs": [],
   "source": [
    "# Import necessary libraries\n",
    "import pandas as pd  # Data manipulation\n",
    "import numpy as np  # Array operations\n",
    "import seaborn as sns  # Data visualization\n",
    "import tensorflow as tf  # Deep learning framework\n",
    "import matplotlib.pyplot as plt  # Plotting\n",
    "from keras.utils import to_categorical  # Categorical encoding for labels\n",
    "from sklearn.model_selection import train_test_split  # Data splitting\n",
    "from sklearn.preprocessing import StandardScaler  # Data normalization\n",
    "from keras.layers import Dense  # Dense layers for neural network\n",
    "from keras.models import Sequential  # Model structure\n",
    "from sklearn.metrics import accuracy_score, classification_report, confusion_matrix  # Evaluation metrics"
   ]
  },
  {
   "cell_type": "code",
   "execution_count": null,
   "id": "32e62c3d",
   "metadata": {},
   "outputs": [],
   "source": [
    "# Load the dataset (Assuming the dataset is in a CSV file named 'diabetes.csv')\n",
    "data = pd.read_csv('diabetes.csv')\n",
    "\n",
    "# Display first few rows of the dataset to understand the structure\n",
    "data.head()"
   ]
  },
  {
   "cell_type": "code",
   "execution_count": null,
   "id": "5644dc3a",
   "metadata": {},
   "outputs": [],
   "source": [
    "# Check for data types and missing values\n",
    "data.info()\n",
    "data.isnull().sum()"
   ]
  },
  {
   "cell_type": "code",
   "execution_count": null,
   "id": "ff61800c",
   "metadata": {},
   "outputs": [],
   "source": [
    "# Visualize the distribution of target variable (Diabetes vs. No Diabetes)\n",
    "f, ax = plt.subplots(1, 2, figsize=(12, 6))\n",
    "f.suptitle(\"Diabetes Distribution\", fontsize=18)\n",
    "# Bar plot for Outcome distribution\n",
    "data.Outcome.value_counts().plot.bar(ax=ax[0], color=['#3498db', '#e74c3c'], rot=0)\n",
    "ax[0].set_xticklabels([\"No\", \"Yes\"])\n",
    "# Pie chart for Outcome distribution\n",
    "data.Outcome.value_counts().plot.pie(labels=[\"No\", \"Yes\"], autopct=\"%.2f%%\", label=\"\", ax=ax[1],\n",
    "                                     colors=['#3498db', '#e74c3c'], wedgeprops={\"linewidth\": 1.5, \"edgecolor\": \"#F7F7F9\"})\n",
    "plt.show()"
   ]
  },
  {
   "cell_type": "code",
   "execution_count": null,
   "id": "f508c71f",
   "metadata": {},
   "outputs": [],
   "source": [
    "# Plot the distributions of all features to understand data spread and potential outliers\n",
    "fig, ax = plt.subplots(4, 2, figsize=(16, 16))\n",
    "sns.histplot(data.Pregnancies, bins=20, ax=ax[0, 0], color='#3498db').set_title(\"Pregnancies\")\n",
    "sns.histplot(data.Glucose, bins=20, ax=ax[0, 1], color='#e74c3c').set_title(\"Glucose\")\n",
    "sns.histplot(data.BloodPressure, bins=20, ax=ax[1, 0], color='#3498db').set_title(\"Blood Pressure\")\n",
    "sns.histplot(data.SkinThickness, bins=20, ax=ax[1, 1], color='#e74c3c').set_title(\"Skin Thickness\")\n",
    "sns.histplot(data.Insulin, bins=20, ax=ax[2, 0], color='#3498db').set_title(\"Insulin\")\n",
    "sns.histplot(data.BMI, bins=20, ax=ax[2, 1], color='#e74c3c').set_title(\"BMI\")\n",
    "sns.histplot(data.DiabetesPedigreeFunction, bins=20, ax=ax[3, 0], color='#3498db').set_title(\"Diabetes Pedigree Function\")\n",
    "sns.histplot(data.Age, bins=20, ax=ax[3, 1], color='#e74c3c').set_title(\"Age\")\n",
    "plt.tight_layout()\n",
    "plt.show()"
   ]
  },
  {
   "cell_type": "code",
   "execution_count": null,
   "id": "4d13f552",
   "metadata": {},
   "outputs": [],
   "source": [
    "# Check correlation between features\n",
    "plt.figure(figsize=(14, 10))\n",
    "sns.heatmap(data.corr(), annot=True, cmap='YlGnBu', linewidths=0.5)\n",
    "plt.title('Correlation between features')\n",
    "plt.show()"
   ]
  },
  {
   "cell_type": "code",
   "execution_count": null,
   "id": "4998dcac",
   "metadata": {},
   "outputs": [],
   "source": [
    "# Split data into features (X) and labels (Y)\n",
    "X = data.iloc[:, :-1].values\n",
    "Y = data.iloc[:, -1].values\n",
    "\n",
    "# Normalize the features for improved model performance\n",
    "scaler = StandardScaler()\n",
    "X = scaler.fit_transform(X)\n",
    "\n",
    "# Split data into training and testing sets (80% train, 20% test)\n",
    "X_train, X_test, Y_train, Y_test = train_test_split(X, Y, test_size=0.20, random_state=12)"
   ]
  },
  {
   "cell_type": "code",
   "execution_count": null,
   "id": "867b7ee6",
   "metadata": {},
   "outputs": [],
   "source": [
    "# Create a Sequential MLP Model\n",
    "model = Sequential()\n",
    "model.add(Dense(32, input_dim=8, activation='relu'))  # Input layer with 32 neurons\n",
    "model.add(Dense(16, activation='relu'))  # Hidden layer with 16 neurons\n",
    "model.add(Dense(8, activation='relu'))  # Hidden layer with 8 neurons\n",
    "model.add(Dense(1, activation='sigmoid'))  # Output layer for binary classification\n",
    "\n",
    "# Compile the model using binary cross-entropy for binary classification\n",
    "model.compile(loss='binary_crossentropy', optimizer='adam', metrics=['accuracy'])\n",
    "\n",
    "# Show model structure\n",
    "model.summary()"
   ]
  },
  {
   "cell_type": "code",
   "execution_count": null,
   "id": "2919b99a",
   "metadata": {},
   "outputs": [],
   "source": [
    "# Train the model\n",
    "hist = model.fit(X_train, Y_train, epochs=100, validation_data=(X_test, Y_test))"
   ]
  },
  {
   "cell_type": "code",
   "execution_count": null,
   "id": "2a45575d",
   "metadata": {},
   "outputs": [],
   "source": [
    "# Evaluate model accuracy on training and testing datasets\n",
    "train_accuracy = model.evaluate(X_train, Y_train, verbose=0)\n",
    "test_accuracy = model.evaluate(X_test, Y_test, verbose=0)\n",
    "print(f\"Training Accuracy: {train_accuracy[1] * 100:.2f}%\")\n",
    "print(f\"Testing Accuracy: {test_accuracy[1] * 100:.2f}%\")"
   ]
  },
  {
   "cell_type": "code",
   "execution_count": null,
   "id": "2a0fe579",
   "metadata": {},
   "outputs": [],
   "source": [
    "# Predict on test data and evaluate performance\n",
    "Y_pred = (model.predict(X_test) > 0.5).astype(\"int32\")\n",
    "print(\"Confusion Matrix:\\n\", confusion_matrix(Y_test, Y_pred))\n",
    "print(\"Classification Report:\\n\", classification_report(Y_test, Y_pred))"
   ]
  },
  {
   "cell_type": "code",
   "execution_count": null,
   "id": "7114c832",
   "metadata": {},
   "outputs": [],
   "source": [
    "# Visualize confusion matrix as a heatmap\n",
    "plt.figure(figsize=(6, 5))\n",
    "sns.heatmap(confusion_matrix(Y_test, Y_pred), annot=True, fmt=\"d\",\n",
    "            xticklabels=[\"No Diabetes\", \"Diabetes\"], yticklabels=[\"No Diabetes\", \"Diabetes\"], cmap='Blues')\n",
    "plt.xlabel('Predicted')\n",
    "plt.ylabel('True')\n",
    "plt.title(\"Confusion Matrix\")\n",
    "plt.show()"
   ]
  },
  {
   "cell_type": "code",
   "execution_count": null,
   "id": "0414193a",
   "metadata": {},
   "outputs": [],
   "source": [
    "# Plot accuracy and loss curves\n",
    "plt.figure(figsize=(12, 5))\n",
    "plt.plot(hist.history['accuracy'], label='Training Accuracy')\n",
    "plt.plot(hist.history['val_accuracy'], label='Validation Accuracy')\n",
    "plt.title('Model Accuracy')\n",
    "plt.xlabel('Epoch')\n",
    "plt.ylabel('Accuracy')\n",
    "plt.legend()\n",
    "plt.show()\n",
    "\n",
    "plt.figure(figsize=(12, 5))\n",
    "plt.plot(hist.history['loss'], label='Training Loss')\n",
    "plt.plot(hist.history['val_loss'], label='Validation Loss')\n",
    "plt.title('Model Loss')\n",
    "plt.xlabel('Epoch')\n",
    "plt.ylabel('Loss')\n",
    "plt.legend()\n",
    "plt.show()"
   ]
  }
 ],
 "metadata": {},
 "nbformat": 4,
 "nbformat_minor": 5
}